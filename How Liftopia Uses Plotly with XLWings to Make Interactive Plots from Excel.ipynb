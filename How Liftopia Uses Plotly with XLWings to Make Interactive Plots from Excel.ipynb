{
 "cells": [
  {
   "cell_type": "code",
   "execution_count": 1,
   "metadata": {
    "collapsed": true
   },
   "outputs": [],
   "source": [
    "from IPython.display import IFrame\n",
    "#A few imports we will need later\n",
    "from xlwings import Workbook, Sheet, Range, Chart\n",
    "import pandas as pd\n",
    "import numpy as np\n",
    "import plotly.plotly as py\n",
    "import plotly.tools as tlsM\n",
    "from IPython.display import HTML\n",
    "from plotly.graph_objs import *"
   ]
  },
  {
   "cell_type": "markdown",
   "metadata": {},
   "source": [
    "<img src=\"https://raw.githubusercontent.com/ostegm/Plotly_Post/master/assets/logo.png\" width=\"1000\" />\n",
    "\n",
    "## Building Interactive Graphs at the Push of an (Excel) Button Using Plot.ly and XLWings\n",
    "_____________________________________\n",
    "\n",
    "At [Liftopia](http://www.liftopia.com/) we are working on bringing dynamic pricing into the ski industry. We help consumers ski more by offering tickets for purchase in advance at lower prices in exchange for their commitment. We help resorts control their pricing, drive more predictable revenue and grow their businesses. \n",
    "\n",
    "Since one of our core business channels is pricing and selling lift tickets we spend a lot of time thinking about how to determine the way to price tickets throughout the season. Once we have a good plan built, we need to think about how to communicate the plan. With a dynamic pricing plan there's often a lot of data to communicate... The ski areas we work with often offer tickets on 120 days of the year at upwards of 10 different price points on each day of the season. If you do the math - that can mean trying to communicate 1,200 different prices for one product. Some resorts offer over 10 different products. Now we are at 12,000 data points. \n",
    "\n",
    "In an effort to communicate our pricing plans more effecitvely - we decided to use [Plot.ly](Plot.ly) to help us build web based interactive visualizations we can share with our partners. To do this we connected one of our pricing tools to a python script that interacts with Plotly's API. \n",
    "\n",
    "This notebook walks through a simplified version of that process. Note - the data used in this example is intended to show how we use Plotly from Excel - if you want to talk to us about our beliefs abour pricing - get in touch! (ostegmaier@liftopia.com) \n",
    "\n",
    "### How can we go from this: \n",
    "\n",
    "<img src=\"https://raw.githubusercontent.com/ostegm/Plotly_Post/master/assets/prices.png\" width=\"800\" />\n",
    "\n",
    "###To this: \n",
    "\n"
   ]
  },
  {
   "cell_type": "code",
   "execution_count": 2,
   "metadata": {
    "collapsed": false
   },
   "outputs": [
    {
     "data": {
      "text/html": [
       "\n",
       "        <iframe\n",
       "            width=\"1000\"\n",
       "            height=\"500\"\n",
       "            src=\"https://plot.ly/~otto.stegmaier/609/previous-min-and-max-prices/\"\n",
       "            frameborder=\"0\"\n",
       "            allowfullscreen\n",
       "        ></iframe>\n",
       "        "
      ],
      "text/plain": [
       "<IPython.lib.display.IFrame at 0x410bcf8>"
      ]
     },
     "execution_count": 2,
     "metadata": {},
     "output_type": "execute_result"
    }
   ],
   "source": [
    "IFrame('https://plot.ly/~otto.stegmaier/609/previous-min-and-max-prices/', width=1000, height=500)"
   ]
  },
  {
   "cell_type": "markdown",
   "metadata": {},
   "source": [
    "___________________________\n"
   ]
  },
  {
   "cell_type": "markdown",
   "metadata": {},
   "source": [
    "## Step 1 Connect to your data in Excel using XLWings\n",
    "______________________________\n",
    "\n",
    "To show how we use plotly with XLWings and Excel - we put together some simulated data in an excel workbook. For more on XLWings Check out their [documentation](http://docs.xlwings.org/api.html) or this [great tutorial](https://www.youtube.com/watch?v=Z80kyLcG6JI)"
   ]
  },
  {
   "cell_type": "code",
   "execution_count": 3,
   "metadata": {
    "collapsed": false
   },
   "outputs": [],
   "source": [
    "#workbook connection - When connecting to a file from a VBA macro you use Workbook.call() instead of Workbook(<filepath>)\n",
    "wb = Workbook('Example Workbook.xlsm')"
   ]
  },
  {
   "cell_type": "markdown",
   "metadata": {},
   "source": [
    "##Using Excel as a Plotly Dashboard...\n",
    "\n",
    "Ok - so maybe its not so high speed - but its a good fit for our users! Plotly has a ton of great GUI tools to edit the graphs once they're made, but we needed a way to make it easy on our users to get the graphs out of excel and into Plotly so they can edit the graphs there. So we build a \"Dashboard\" with some controls:\n",
    "\n",
    "\n",
    "\n",
    "<img src=\"https://raw.githubusercontent.com/ostegm/Plotly_Post/master/assets/dashboard.png\" width=\"700\" />\n",
    "_________________\n",
    "###Now we can use some of these user-input values to control what elements get plotted \n"
   ]
  },
  {
   "cell_type": "code",
   "execution_count": 4,
   "metadata": {
    "collapsed": false
   },
   "outputs": [],
   "source": [
    "#Now we can use some of these controls to customize the \n",
    "folder_name = Range('Dashboard','B2').value\n",
    "graph_title = Range('Dashboard','B3').value"
   ]
  },
  {
   "cell_type": "markdown",
   "metadata": {},
   "source": [
    "### Next we will use the user input to create some dataframes for each sheet the user wants to plot"
   ]
  },
  {
   "cell_type": "code",
   "execution_count": 5,
   "metadata": {
    "collapsed": true
   },
   "outputs": [],
   "source": [
    "#short function to create a new dataframe using xlwings\n",
    "def new_df(shtnm, startcell = 'A1'):\n",
    "    data = Range(shtnm, startcell).table.value\n",
    "    temp_df = pd.DataFrame(data[1:], columns = data[0])\n",
    "    return(temp_df)\n",
    "\n",
    "###Make some dataframes from the workbook sheets\n",
    "#Core Product\n",
    "shtnm1 = Range('Dashboard','B6').value\n",
    "df = new_df(shtnm1)\n",
    "\n",
    "#2nd Product\n",
    "product_2 = False\n",
    "if Range('Dashboard','C7').value == \"Yes\":\n",
    "    shtnm2 = Range('Dashboard','B7').value\n",
    "    df2 = new_df(shtnm2)\n",
    "    product_2 = True\n",
    "\n",
    "#3rd Product\n",
    "product_3 = False\n",
    "if Range('Dashboard','C8').value == \"Yes\":\n",
    "    shtnm3 = Range('Dashboard','B8').value\n",
    "    df3 = new_df(shtnm3)\n",
    "    product_3 = True       "
   ]
  },
  {
   "cell_type": "markdown",
   "metadata": {},
   "source": [
    "### Its easier to work with the column headers once they're cleaned up, so let's clean them up a bit"
   ]
  },
  {
   "cell_type": "code",
   "execution_count": 6,
   "metadata": {
    "collapsed": true
   },
   "outputs": [],
   "source": [
    "#Clean up the charaters in the columns \n",
    "names2 = []\n",
    "def clean_names(column_list):\n",
    "    #Short function to make our column headers easier to reference later.\n",
    "    names2=[]\n",
    "    for name in column_list:\n",
    "        name = name.replace(\" \",\"\").lower()\n",
    "        if 'windowprice' in name: #this allows non-adult ticket types to be built\n",
    "            name = 'windowprice'\n",
    "        names2.append(name)\n",
    "    return names2\n",
    "\n",
    "df.columns = clean_names(df.columns.values)\n",
    "if product_2 == True:\n",
    "    df2.columns = clean_names(df2.columns.values)\n",
    "if product_3 == True:\n",
    "    df3.columns = clean_names(df3.columns.values)  "
   ]
  },
  {
   "cell_type": "markdown",
   "metadata": {},
   "source": [
    "###We found it useful to be using a common index across the products - at least for our purpose, so we reset the index on the date column and convert the rest of the data to float"
   ]
  },
  {
   "cell_type": "code",
   "execution_count": 7,
   "metadata": {
    "collapsed": true
   },
   "outputs": [],
   "source": [
    "df= df.set_index('date').tz_localize('MST').astype(float)\n",
    "if product_2 == True:\n",
    "    df2= df2.set_index('date').tz_localize('MST').astype(float)\n",
    "if product_3 == True:\n",
    "    df3= df3.set_index('date').tz_localize('MST').astype(float)"
   ]
  },
  {
   "cell_type": "markdown",
   "metadata": {},
   "source": [
    "###To help make our graph look good, we need some global variable set. \n",
    "-Remember though, even if it looks wierd when plotted, the user can always go edit the plot on Plotly's web based tool"
   ]
  },
  {
   "cell_type": "code",
   "execution_count": 8,
   "metadata": {
    "collapsed": false
   },
   "outputs": [],
   "source": [
    "#set a few global variables so we can use them throughout the plots\n",
    "X = df.index\n",
    "\n",
    "try:  \n",
    "    ymin = min(df['minpriceoffered'].min(),df2['minpriceoffered'].min(),df3['minpriceoffered'].min()) - 10\n",
    "    ymax = max(df['walkupprice'].max(),df2['walkupprice'].max(),df3['walkupprice'].max()) + 10\n",
    "    \n",
    "except:\n",
    "    #If that doesn't work, just go edit it on Plotly's web based plot editor. \n",
    "    ymin = df['minpriceoffered'].min() - 10\n",
    "    ymax = df['walkupprice'].max() + 10"
   ]
  },
  {
   "cell_type": "markdown",
   "metadata": {},
   "source": [
    "###For our particular use case - we were rebuilding traces of similar type,  so we wrote a short function to simplify this step"
   ]
  },
  {
   "cell_type": "code",
   "execution_count": 9,
   "metadata": {
    "collapsed": true
   },
   "outputs": [],
   "source": [
    "#function to create a \"trace\" (line) for each item we want to plot\n",
    "def new_trace(price_column, color, name, x=X, fill = 'none', qty_column = []):\n",
    "    trace = Scatter(\n",
    "    x=X,\n",
    "    y=price_column,  \n",
    "    fill=fill,\n",
    "    mode='lines',\n",
    "    name=name,\n",
    "    text=['Quantity: {}'.format(q) for q in qty_column],\n",
    "    line=Line(\n",
    "        color=color,\n",
    "        width=2,\n",
    "        dash='solid',\n",
    "        opacity=1,),\n",
    "    xaxis='x1',\n",
    "    yaxis='y1')\n",
    "    return trace\n",
    "\n",
    "#Set up the 3 core traces\n",
    "trace1 = new_trace(df['walkupprice'], '#FF9966','Core Product Walkup Price') \n",
    "trace2 = new_trace(df['maxpriceoffered'], '#5EA5D1',shtnm1 + 'Highest Price Offered', qty_column=df['unitsmax']) \n",
    "trace3 = new_trace(df['minpriceoffered'], '#5EA5D1',shtnm1+' Starting Price',  qty_column= df['unitsmin'], fill='tonexty') \n",
    "trace_list = [trace1, trace2, trace3]"
   ]
  },
  {
   "cell_type": "markdown",
   "metadata": {},
   "source": [
    "###Next we can add in the additional products if the user selected yes in the Excel Dashboard Sheet\n",
    "\n",
    "<img src=\"https://raw.githubusercontent.com/ostegm/Plotly_Post/master/assets/toggle.png\" width=\"700\" />"
   ]
  },
  {
   "cell_type": "code",
   "execution_count": 10,
   "metadata": {
    "collapsed": true
   },
   "outputs": [],
   "source": [
    "#add additional traces if toggled on by user\n",
    "if product_2 == True:\n",
    "    trace4 = new_trace(df2['minpriceoffered'], '##66ff66',shtnm2+' Lowest Price Offered')\n",
    "    trace_list.append(trace4)  \n",
    "\n",
    "if product_3 == True:\n",
    "    trace5 = new_trace(df3['minpriceoffered'], '#e6e600',shtnm3+' Lowest Price Offered') \n",
    "    trace_list.append(trace5) \n",
    "    "
   ]
  },
  {
   "cell_type": "markdown",
   "metadata": {},
   "source": [
    "### Lastly we set some general Layout controls. \n",
    "If needed, these could be added as user controls pretty easily in the Excel dashboard - or you could just edit the graph from Plotly's GUI."
   ]
  },
  {
   "cell_type": "code",
   "execution_count": 11,
   "metadata": {
    "collapsed": false
   },
   "outputs": [],
   "source": [
    "layout = Layout(\n",
    "    title=graph_title,                #Using the input from the Dashboard Sheet in Excel\n",
    "    titlefont=Font(\n",
    "        size=12.0,\n",
    "        color='#262626'\n",
    "    ),\n",
    "    showlegend=True,\n",
    "    hovermode='compare',\n",
    "    xaxis1=XAxis(\n",
    "        title='Trip Date',\n",
    "        titlefont=Font(\n",
    "            size=11.0,\n",
    "            color='#262626'\n",
    "        ),\n",
    "        range=[X.min(),X.max()],\n",
    "        domain=[0.0, 1.0],\n",
    "        type='date',\n",
    "        showgrid=True,\n",
    "        zeroline=False,\n",
    "        showline=True,\n",
    "        nticks=8,\n",
    "        ticks='inside',\n",
    "        tickfont=Font(\n",
    "            size=10.0\n",
    "        ),\n",
    "        mirror='ticks',\n",
    "        anchor='y1',\n",
    "        side='bottom'\n",
    "    ),\n",
    "    yaxis1=YAxis(\n",
    "        title='Price',\n",
    "        titlefont=Font(\n",
    "            size=11.0,\n",
    "            color='#262626'\n",
    "        ),\n",
    "        range=[ymin, ymax],\n",
    "        domain=[0.0, 1.0],\n",
    "        type='linear',\n",
    "        showgrid=True,\n",
    "        zeroline=False,\n",
    "        showline=True,\n",
    "        nticks=7,\n",
    "        ticks='inside',\n",
    "        tickfont=Font(\n",
    "            size=10.0\n",
    "        ),\n",
    "        mirror='ticks',\n",
    "        anchor='x1',\n",
    "        side='left'\n",
    "    )\n",
    ")"
   ]
  },
  {
   "cell_type": "code",
   "execution_count": 12,
   "metadata": {
    "collapsed": true
   },
   "outputs": [],
   "source": [
    "#Short function for pushing private graphs to plotly\n",
    "def private_plot(*args, **kwargs):\n",
    "    kwargs['auto_open'] = False     #Controls whether a new tab is opened in your browser with the new plot\n",
    "    url = py.plot(*args, **kwargs)\n",
    "    return (url)"
   ]
  },
  {
   "cell_type": "markdown",
   "metadata": {},
   "source": [
    "### Now We are ready to plot! "
   ]
  },
  {
   "cell_type": "code",
   "execution_count": 13,
   "metadata": {
    "collapsed": false,
    "scrolled": true
   },
   "outputs": [
    {
     "name": "stdout",
     "output_type": "stream",
     "text": [
      "https://plot.ly/~otto.stegmaier/609\n"
     ]
    },
    {
     "name": "stderr",
     "output_type": "stream",
     "text": [
      "C:\\Anaconda\\lib\\site-packages\\requests\\packages\\urllib3\\util\\ssl_.py:90: InsecurePlatformWarning:\n",
      "\n",
      "A true SSLContext object is not available. This prevents urllib3 from configuring SSL appropriately and may cause certain SSL connections to fail. For more information, see https://urllib3.readthedocs.org/en/latest/security.html#insecureplatformwarning.\n",
      "\n"
     ]
    },
    {
     "data": {
      "text/html": [
       "\n",
       "        <iframe\n",
       "            width=\"700\"\n",
       "            height=\"350\"\n",
       "            src=\"https://plot.ly/~otto.stegmaier/609\"\n",
       "            frameborder=\"0\"\n",
       "            allowfullscreen\n",
       "        ></iframe>\n",
       "        "
      ],
      "text/plain": [
       "<IPython.lib.display.IFrame at 0xa981208>"
      ]
     },
     "execution_count": 13,
     "metadata": {},
     "output_type": "execute_result"
    }
   ],
   "source": [
    "fig = Figure(data=trace_list, layout=layout)\n",
    "url = private_plot(fig,  filename='%s/%s' %(folder_name, graph_title), world_readable=True)\n",
    "print url \n",
    "IFrame(url, width=700, height=350)"
   ]
  },
  {
   "cell_type": "markdown",
   "metadata": {
    "collapsed": true
   },
   "source": [
    "________________\n",
    "__________________\n",
    "## Now that the code is working, how to run this dirctly from Excel?\n",
    "________________\n",
    "________________\n",
    "\n",
    "#### Save the python script to file. Make sure to use Workbook.caller() rather than the file path. This allows XLWings to access the current notebook that the user has open.\n",
    "________________\n",
    "<img src=\"https://raw.githubusercontent.com/ostegm/Plotly_Post/master/assets/workbookcaller.png\" width=\"400\" />\n",
    "________________\n",
    "####Build a Macro in python that references the script you've written:\n",
    "________________\n",
    "<img src=\"https://raw.githubusercontent.com/ostegm/Plotly_Post/master/assets/macro.png\" width=\"700\" />\n",
    "________________\n",
    "####Assign the macro to a button of your choosing\n",
    "________________\n",
    "<img src=\"https://raw.githubusercontent.com/ostegm/Plotly_Post/master/assets/assignmacro.png\" width=\"500\" />\n",
    "________________\n",
    "#### Make any final edits using Plotly's web based editor\n",
    "________________\n",
    "<img src=\"https://raw.githubusercontent.com/ostegm/Plotly_Post/master/assets/plotlyeditor.png\" width=\"800\" />"
   ]
  },
  {
   "cell_type": "markdown",
   "metadata": {},
   "source": [
    "__________________\n",
    "Thanks for reading this far! "
   ]
  },
  {
   "cell_type": "code",
   "execution_count": null,
   "metadata": {
    "collapsed": true
   },
   "outputs": [],
   "source": []
  }
 ],
 "metadata": {
  "kernelspec": {
   "display_name": "Python 2",
   "language": "python",
   "name": "python2"
  },
  "language_info": {
   "codemirror_mode": {
    "name": "ipython",
    "version": 2
   },
   "file_extension": ".py",
   "mimetype": "text/x-python",
   "name": "python",
   "nbconvert_exporter": "python",
   "pygments_lexer": "ipython2",
   "version": "2.7.8"
  }
 },
 "nbformat": 4,
 "nbformat_minor": 0
}
